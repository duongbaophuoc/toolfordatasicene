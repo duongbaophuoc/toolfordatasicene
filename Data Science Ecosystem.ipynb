{
 "cells": [
  {
   "cell_type": "markdown",
   "id": "a874faaa-41bd-4bae-95ae-d4d3571a89db",
   "metadata": {},
   "source": [
    "<h1>Data Science Ecosystem</h1>"
   ]
  },
  {
   "cell_type": "markdown",
   "id": "e157d024-a2db-4c51-a414-81d6607c99c5",
   "metadata": {},
   "source": [
    "THIS IS NOTEBOOK, DATA SCIENCE Tools and Ecosystem summarized"
   ]
  },
  {
   "cell_type": "markdown",
   "id": "c3343d6f-5ce4-4ba2-832d-5fb7f061ebb5",
   "metadata": {},
   "source": [
    "\n",
    "<title>Some of the popular language that Data Science use are:</title>\n",
    "<ol>\n",
    "<li>Python</li>\n",
    "<li>R</li>\n",
    "<li>SQL</li>\n",
    "<li>Java</li>\n",
    "<li>C++</li>\n",
    "</ol>"
   ]
  },
  {
   "cell_type": "markdown",
   "id": "ad788131-6043-416f-bd06-f386585e6572",
   "metadata": {},
   "source": [
    "Some of the commonly used libraries used by Data Scientists include:\n",
    "<ul>\n",
    "<li>Tensoflow</li>\n",
    "<li>Numpy</li>\n",
    "<li>Scipy</li>\n",
    "<li>Pandas</li>\n",
    "<li>Matplotlib</li>\n",
    "<li>Keras</li>\n",
    "<li>PyTorch ... </li>\n",
    "</ul>"
   ]
  },
  {
   "cell_type": "markdown",
   "id": "48a03c28-06ca-454c-80aa-37caac999989",
   "metadata": {},
   "source": [
    "|Data Science Tools|\n",
    "|---|\n",
    "|SAS|\n",
    "|Apache Hapoop|\n",
    "|Tensoflow|\n"
   ]
  },
  {
   "cell_type": "markdown",
   "id": "19fcb691-2a2d-42b1-9e54-9ce0adbbbb2c",
   "metadata": {},
   "source": [
    "<h3>Below are a few examples of evaluating arithmetic expressions in Python<h3>"
   ]
  },
  {
   "cell_type": "code",
   "execution_count": 16,
   "id": "e3fec432-5a6c-4911-96ba-2faf0aca3db6",
   "metadata": {},
   "outputs": [
    {
     "data": {
      "text/plain": [
       "17"
      ]
     },
     "execution_count": 16,
     "metadata": {},
     "output_type": "execute_result"
    }
   ],
   "source": [
    "#Division in Python : When you divide in Python 3, your quotient will always be returned as a float, even if you use two integers#\n",
    "(3*4)+5"
   ]
  },
  {
   "cell_type": "code",
   "execution_count": 17,
   "id": "13f17d2b-9520-428e-bdb3-c06103365e0d",
   "metadata": {},
   "outputs": [
    {
     "data": {
      "text/plain": [
       "3.3333333333333335"
      ]
     },
     "execution_count": 17,
     "metadata": {},
     "output_type": "execute_result"
    }
   ],
   "source": [
    "# This will convert 200 minutes to hours by diving by 60#\n",
    "200/60"
   ]
  },
  {
   "cell_type": "markdown",
   "id": "b0db1d01-7794-4ced-b621-347b0758ed74",
   "metadata": {},
   "source": [
    "<h3>Obeject <h3>\n",
    "\n",
    "<ul>\n",
    "<li>List popular languages for Data Science</li>\n",
    "<li>List popular tools for Data Science</li>\n",
    "<li>List popular libralies for Data Science</li>\n",
    "\n",
    "</ul>\n",
    "\n"
   ]
  },
  {
   "cell_type": "markdown",
   "id": "4a4aa949-f3c9-4f83-8ca1-f3c5161ea738",
   "metadata": {},
   "source": [
    "<h2>AuThor<h2>\n",
    "<h5>DuongBaoPhuoc<h5>"
   ]
  },
  {
   "cell_type": "code",
   "execution_count": null,
   "id": "6ba2c2f1-5854-4266-aca7-64750d12a810",
   "metadata": {},
   "outputs": [],
   "source": []
  }
 ],
 "metadata": {
  "kernelspec": {
   "display_name": "Python 3 (ipykernel)",
   "language": "python",
   "name": "python3"
  },
  "language_info": {
   "codemirror_mode": {
    "name": "ipython",
    "version": 3
   },
   "file_extension": ".py",
   "mimetype": "text/x-python",
   "name": "python",
   "nbconvert_exporter": "python",
   "pygments_lexer": "ipython3",
   "version": "3.12.3"
  }
 },
 "nbformat": 4,
 "nbformat_minor": 5
}
